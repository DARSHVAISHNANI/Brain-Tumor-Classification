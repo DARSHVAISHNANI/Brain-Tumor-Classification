{
 "cells": [
  {
   "cell_type": "markdown",
   "metadata": {},
   "source": [
    "pip install seaborn"
   ]
  },
  {
   "cell_type": "markdown",
   "metadata": {},
   "source": [
    "pip install numpy==1.23.4"
   ]
  },
  {
   "cell_type": "code",
   "execution_count": 3,
   "metadata": {
    "colab": {
     "base_uri": "https://localhost:8080/"
    },
    "id": "7jZWE-lf8oST",
    "outputId": "09a79665-2b67-4d99-cec2-87d50020d3aa"
   },
   "outputs": [
    {
     "name": "stdout",
     "output_type": "stream",
     "text": [
      "2.6.0\n"
     ]
    }
   ],
   "source": [
    "import numpy as np\n",
    "import os\n",
    "import tensorflow as tf\n",
    "import matplotlib.pyplot as plt\n",
    "from sklearn.model_selection import train_test_split\n",
    "print(tf.__version__)\n",
    "from tensorflow.keras.preprocessing.image import ImageDataGenerator\n",
    "from tensorflow.keras import backend as C\n",
    "from tensorflow.keras import regularizers\n",
    "from tensorflow.keras.layers import *\n",
    "from tensorflow.keras.callbacks import *\n",
    "from tensorflow.keras.optimizers import *\n",
    "from tensorflow.keras.models import load_model,Model\n",
    "from tensorflow.python.keras.utils import conv_utils\n",
    "from tensorflow.keras import regularizers, constraints, initializers\n",
    "import pandas as pd\n",
    "from tensorflow.keras.layers import GlobalAveragePooling2D\n",
    "# import seaborn as sns\n",
    "from sklearn.metrics import confusion_matrix, classification_report"
   ]
  },
  {
   "cell_type": "code",
   "execution_count": 4,
   "metadata": {
    "colab": {
     "base_uri": "https://localhost:8080/"
    },
    "id": "116dag8D8zlz",
    "outputId": "4e4b85d6-3a89-4179-d057-73a38f5a8fd0"
   },
   "outputs": [
    {
     "name": "stdout",
     "output_type": "stream",
     "text": [
      "Found 5617 images belonging to 4 classes.\n",
      "Found 701 images belonging to 4 classes.\n",
      "train classes\n",
      "{'glioma': 0, 'meningioma': 1, 'notumor': 2, 'pituitary': 3}\n",
      "train labels\n",
      "[0 0 0 ... 3 3 3]\n",
      "validation clases\n",
      "{'glioma': 0, 'meningioma': 1, 'notumor': 2, 'pituitary': 3}\n",
      "validation labels\n",
      "[0 0 0 0 0 0 0 0 0 0 0 0 0 0 0 0 0 0 0 0 0 0 0 0 0 0 0 0 0 0 0 0 0 0 0 0 0\n",
      " 0 0 0 0 0 0 0 0 0 0 0 0 0 0 0 0 0 0 0 0 0 0 0 0 0 0 0 0 0 0 0 0 0 0 0 0 0\n",
      " 0 0 0 0 0 0 0 0 0 0 0 0 0 0 0 0 0 0 0 0 0 0 0 0 0 0 0 0 0 0 0 0 0 0 0 0 0\n",
      " 0 0 0 0 0 0 0 0 0 0 0 0 0 0 0 0 0 0 0 0 0 0 0 0 0 0 0 0 0 0 0 0 0 0 0 0 0\n",
      " 0 0 0 0 0 0 0 0 0 0 0 0 0 0 1 1 1 1 1 1 1 1 1 1 1 1 1 1 1 1 1 1 1 1 1 1 1\n",
      " 1 1 1 1 1 1 1 1 1 1 1 1 1 1 1 1 1 1 1 1 1 1 1 1 1 1 1 1 1 1 1 1 1 1 1 1 1\n",
      " 1 1 1 1 1 1 1 1 1 1 1 1 1 1 1 1 1 1 1 1 1 1 1 1 1 1 1 1 1 1 1 1 1 1 1 1 1\n",
      " 1 1 1 1 1 1 1 1 1 1 1 1 1 1 1 1 1 1 1 1 1 1 1 1 1 1 1 1 1 1 1 1 1 1 1 1 1\n",
      " 1 1 1 1 1 1 1 1 1 1 1 1 1 1 1 1 1 1 1 1 1 1 1 1 1 1 1 1 1 1 2 2 2 2 2 2 2\n",
      " 2 2 2 2 2 2 2 2 2 2 2 2 2 2 2 2 2 2 2 2 2 2 2 2 2 2 2 2 2 2 2 2 2 2 2 2 2\n",
      " 2 2 2 2 2 2 2 2 2 2 2 2 2 2 2 2 2 2 2 2 2 2 2 2 2 2 2 2 2 2 2 2 2 2 2 2 2\n",
      " 2 2 2 2 2 2 2 2 2 2 2 2 2 2 2 2 2 2 2 2 2 2 2 2 2 2 2 2 2 2 2 2 2 2 2 2 2\n",
      " 2 2 2 2 2 2 2 2 2 2 2 2 2 2 2 2 2 2 2 2 2 2 2 2 2 2 2 2 2 2 2 2 2 2 2 2 2\n",
      " 2 2 2 2 2 2 2 2 2 2 2 2 2 2 2 2 2 2 2 2 2 2 2 2 2 2 2 2 2 2 2 2 2 2 2 2 2\n",
      " 2 2 2 2 2 2 2 2 3 3 3 3 3 3 3 3 3 3 3 3 3 3 3 3 3 3 3 3 3 3 3 3 3 3 3 3 3\n",
      " 3 3 3 3 3 3 3 3 3 3 3 3 3 3 3 3 3 3 3 3 3 3 3 3 3 3 3 3 3 3 3 3 3 3 3 3 3\n",
      " 3 3 3 3 3 3 3 3 3 3 3 3 3 3 3 3 3 3 3 3 3 3 3 3 3 3 3 3 3 3 3 3 3 3 3 3 3\n",
      " 3 3 3 3 3 3 3 3 3 3 3 3 3 3 3 3 3 3 3 3 3 3 3 3 3 3 3 3 3 3 3 3 3 3 3 3 3\n",
      " 3 3 3 3 3 3 3 3 3 3 3 3 3 3 3 3 3 3 3 3 3 3 3 3 3 3 3 3 3 3 3 3 3 3 3]\n"
     ]
    }
   ],
   "source": [
    "train_path=('/LAB/Brain Tumor/Brain Tumor MRI/train')\n",
    "test_path=('/LAB/Brain Tumor/Brain Tumor MRI/test')\n",
    "val_path=('/LAB/Brain Tumor/Brain Tumor MRI/val')\n",
    "batch_size = 32\n",
    "img_height = 512\n",
    "img_width = 512\n",
    "no_of_clases = 4\n",
    "clsses_name = ['glioma','meninginoma','notumor','pituitary tumor']\n",
    "input_shape = (img_height,img_width,1)\n",
    "\n",
    "datagen = ImageDataGenerator(rescale = 1./255,featurewise_center=True,horizontal_flip=False,vertical_flip = False,validation_split = 0.1,featurewise_std_normalization = True)\n",
    "\n",
    "train_generator = datagen.flow_from_directory(train_path,target_size=(img_height,img_width),batch_size = batch_size, shuffle =True,class_mode = 'categorical')\n",
    "\n",
    "validation_generator = datagen.flow_from_directory(val_path,target_size=(img_height,img_width),batch_size = batch_size, shuffle =True,class_mode = 'categorical')\n",
    "\n",
    "print('train classes')\n",
    "print(train_generator.class_indices)\n",
    "print('train labels')\n",
    "print(train_generator.labels)\n",
    "print('validation clases')\n",
    "print(validation_generator.class_indices)\n",
    "print('validation labels')\n",
    "print(validation_generator.labels)"
   ]
  },
  {
   "cell_type": "code",
   "execution_count": 5,
   "metadata": {
    "colab": {
     "base_uri": "https://localhost:8080/"
    },
    "id": "rM6ACvxw817p",
    "outputId": "a7d608f1-68d3-44d1-a406-41b1703eac7f"
   },
   "outputs": [
    {
     "name": "stdout",
     "output_type": "stream",
     "text": [
      "176\n"
     ]
    }
   ],
   "source": [
    "print(len(train_generator))"
   ]
  },
  {
   "cell_type": "code",
   "execution_count": null,
   "metadata": {
    "colab": {
     "base_uri": "https://localhost:8080/"
    },
    "id": "KE9PYmRb86qN",
    "outputId": "ec65ea4e-dc2d-4186-882a-a687ae49b5ad"
   },
   "outputs": [],
   "source": [
    "with tf.device('/GPU:1'):\n",
    "    pretrained_model = tf.keras.applications.InceptionResNetV2(\n",
    "                    input_shape=(512, 512, 3),\n",
    "                    include_top=False,\n",
    "                    weights='imagenet',\n",
    "                    pooling='avg',\n",
    "                    )\n",
    "\n",
    "pretrained_model.trainable = False"
   ]
  },
  {
   "cell_type": "code",
   "execution_count": null,
   "metadata": {
    "colab": {
     "base_uri": "https://localhost:8080/"
    },
    "id": "5R8zWAo89OHe",
    "outputId": "6bf28b6a-37c6-417f-e1ec-f60a2b80af47"
   },
   "outputs": [],
   "source": [
    "inputs = pretrained_model.input\n",
    "outputs = tf.keras.layers.Dense(4, activation='softmax')(pretrained_model.output)\n",
    "\n",
    "model = tf.keras.Model(inputs, outputs)\n",
    "print(model.summary())"
   ]
  },
  {
   "cell_type": "code",
   "execution_count": null,
   "metadata": {
    "id": "D43Ubs6o9Pwe"
   },
   "outputs": [],
   "source": [
    "optimizers = tf.keras.optimizers.SGD(learning_rate=0.001)\n",
    "model.compile(optimizer=optimizers,loss='categorical_crossentropy',metrics=['accuracy'])"
   ]
  },
  {
   "cell_type": "code",
   "execution_count": null,
   "metadata": {
    "colab": {
     "base_uri": "https://localhost:8080/"
    },
    "id": "IgXLMCxD9Sse",
    "outputId": "29b2446e-2a0a-4e96-b442-d054932629a8"
   },
   "outputs": [],
   "source": [
    "#callbacks = tf.keras.callbacks.EarlyStopping(monitor='val_loss',patience=3,restore_best_weights=True)\n",
    "with tf.device('/GPU:1'):\n",
    "    history = model.fit(train_generator,validation_data=validation_generator,epochs=25)"
   ]
  },
  {
   "cell_type": "code",
   "execution_count": null,
   "metadata": {
    "colab": {
     "base_uri": "https://localhost:8080/",
     "height": 927
    },
    "id": "BVzIcWISDWUx",
    "outputId": "27ee712c-637c-4e78-b1b0-c995745c4a5a"
   },
   "outputs": [],
   "source": [
    "plt.plot(history.history['loss'],label='Train_loss')\n",
    "plt.plot(history.history['val_loss'],label='Val_loss')\n",
    "plt.legend()\n",
    "plt.xlabel('No of Epochs')\n",
    "plt.ylabel('Loss')\n",
    "plt.title('Loss vs Epochs')\n",
    "plt.show()\n",
    "\n",
    "\n",
    "plt.plot(history.history['accuracy'],label = 'Train_acc')\n",
    "plt.plot(history.history['val_accuracy'],label = 'Val_acc')\n",
    "plt.legend()\n",
    "plt.xlabel('No. of Epochs')\n",
    "plt.ylabel(\"Accuracy\")\n",
    "plt.title(\"Accuracy vs Epochs\")\n",
    "plt.show()"
   ]
  },
  {
   "cell_type": "code",
   "execution_count": null,
   "metadata": {
    "colab": {
     "base_uri": "https://localhost:8080/"
    },
    "id": "NmnmmMFfBXwT",
    "outputId": "67975d75-4321-4728-d614-6e50b838da57"
   },
   "outputs": [],
   "source": [
    "test_data = ImageDataGenerator(rescale=1./255)\n",
    "test_generator = test_data.flow_from_directory(test_path, target_size=(512,512), batch_size=32, shuffle=False, class_mode=\"categorical\")"
   ]
  },
  {
   "cell_type": "code",
   "execution_count": null,
   "metadata": {
    "id": "R6ogK-s79UzU"
   },
   "outputs": [],
   "source": [
    "predictions = np.argmax(model.predict(test_generator), axis=1)\n",
    "matrix = confusion_matrix(test_generator.labels, predictions)\n",
    "report= classification_report(test_generator.labels, predictions, target_names=test_generator.class_indices, zero_division=0)"
   ]
  },
  {
   "cell_type": "code",
   "execution_count": null,
   "metadata": {
    "colab": {
     "base_uri": "https://localhost:8080/"
    },
    "id": "uue4O0SMCqcd",
    "outputId": "afd83f4e-4e80-4858-c750-692393d6a390"
   },
   "outputs": [],
   "source": [
    "pred = model.predict(test_generator,verbose=1)\n",
    "test_generator_indices = np.argmax(pred,axis=1)\n",
    "\n",
    "print(test_generator_indices)"
   ]
  },
  {
   "cell_type": "code",
   "execution_count": null,
   "metadata": {
    "colab": {
     "base_uri": "https://localhost:8080/",
     "height": 983
    },
    "id": "Kmus5AyX9XgK",
    "outputId": "4fe48f3d-d605-4914-e09f-2fbb79ec3020"
   },
   "outputs": [],
   "source": [
    "import seaborn as sns\n",
    "fig = plt.figure(figsize=(10,10))\n",
    "sns.heatmap(matrix, annot=True, cmap='viridis')\n",
    "plt.xticks(ticks=np.arange(4) + 0.4, labels=test_generator.class_indices, rotation=90)\n",
    "plt.yticks(ticks=np.arange(4) + 0.4, labels=test_generator.class_indices, rotation=0)\n",
    "plt.title(\"Confusion Matrix\")\n",
    "plt.xlabel(\"Predicted\")\n",
    "plt.ylabel(\"Actual\")\n",
    "plt.show()\n",
    "fig.savefig(\"Confusion Matrix\",dpi=700)"
   ]
  },
  {
   "cell_type": "code",
   "execution_count": null,
   "metadata": {
    "colab": {
     "base_uri": "https://localhost:8080/"
    },
    "id": "T8HLct9t9ZSH",
    "outputId": "68089511-8a6e-4ee8-d525-d516b799c82c"
   },
   "outputs": [],
   "source": [
    "print(\"Classification Report:\\n\", report)"
   ]
  },
  {
   "cell_type": "code",
   "execution_count": null,
   "metadata": {},
   "outputs": [],
   "source": [
    "!nvidia-smi"
   ]
  },
  {
   "cell_type": "markdown",
   "metadata": {},
   "source": [
    "import shutil\n",
    "\n",
    "def zip_folder(folder_path, zip_filename):\n",
    "    try:\n",
    "        shutil.make_archive(zip_filename, 'zip', folder_path)\n",
    "        print(f\"Folder '{folder_path}' successfully zipped to '{zip_filename}.zip'\")\n",
    "    except Exception as e:\n",
    "        print(f\"Error: {e}\")\n",
    "\n",
    "# Example usage\n",
    "folder_to_zip = '/LAB/Brain Tumor/runs/clas/train8'\n",
    "zip_file_name = '/LAB/Brain Tumor/Brain Tumor MRI/train8'\n",
    "\n",
    "zip_folder(folder_to_zip, zip_file_name)\n"
   ]
  },
  {
   "cell_type": "code",
   "execution_count": null,
   "metadata": {},
   "outputs": [],
   "source": []
  }
 ],
 "metadata": {
  "accelerator": "GPU",
  "colab": {
   "gpuType": "T4",
   "provenance": []
  },
  "kernelspec": {
   "display_name": "Python 3 (ipykernel)",
   "language": "python",
   "name": "python3"
  },
  "language_info": {
   "codemirror_mode": {
    "name": "ipython",
    "version": 3
   },
   "file_extension": ".py",
   "mimetype": "text/x-python",
   "name": "python",
   "nbconvert_exporter": "python",
   "pygments_lexer": "ipython3",
   "version": "3.12.4"
  }
 },
 "nbformat": 4,
 "nbformat_minor": 4
}
