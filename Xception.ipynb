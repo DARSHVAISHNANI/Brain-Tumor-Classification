{
 "cells": [
  {
   "cell_type": "markdown",
   "metadata": {},
   "source": [
    "pip install seaborn"
   ]
  },
  {
   "cell_type": "markdown",
   "metadata": {},
   "source": [
    "pip install numpy==1.23.4"
   ]
  },
  {
   "cell_type": "code",
   "execution_count": 1,
   "metadata": {
    "colab": {
     "base_uri": "https://localhost:8080/"
    },
    "id": "7jZWE-lf8oST",
    "outputId": "09a79665-2b67-4d99-cec2-87d50020d3aa"
   },
   "outputs": [
    {
     "name": "stdout",
     "output_type": "stream",
     "text": [
      "2.6.0\n"
     ]
    }
   ],
   "source": [
    "import numpy as np\n",
    "import os\n",
    "import tensorflow as tf\n",
    "import matplotlib.pyplot as plt\n",
    "from sklearn.model_selection import train_test_split\n",
    "print(tf.__version__)\n",
    "from tensorflow.keras.preprocessing.image import ImageDataGenerator\n",
    "from tensorflow.keras import backend as C\n",
    "from tensorflow.keras import regularizers\n",
    "from tensorflow.keras.layers import *\n",
    "from tensorflow.keras.callbacks import *\n",
    "from tensorflow.keras.optimizers import *\n",
    "from tensorflow.keras.models import load_model,Model\n",
    "from tensorflow.python.keras.utils import conv_utils\n",
    "from tensorflow.keras import regularizers, constraints, initializers\n",
    "import pandas as pd\n",
    "from tensorflow.keras.layers import GlobalAveragePooling2D\n",
    "import seaborn as sns\n",
    "from sklearn.metrics import confusion_matrix, classification_report"
   ]
  },
  {
   "cell_type": "code",
   "execution_count": 2,
   "metadata": {
    "colab": {
     "base_uri": "https://localhost:8080/"
    },
    "id": "116dag8D8zlz",
    "outputId": "4e4b85d6-3a89-4179-d057-73a38f5a8fd0"
   },
   "outputs": [
    {
     "name": "stdout",
     "output_type": "stream",
     "text": [
      "Found 5617 images belonging to 4 classes.\n",
      "Found 701 images belonging to 4 classes.\n",
      "train classes\n",
      "{'glioma': 0, 'meningioma': 1, 'notumor': 2, 'pituitary': 3}\n",
      "train labels\n",
      "[0 0 0 ... 3 3 3]\n",
      "validation clases\n",
      "{'glioma': 0, 'meningioma': 1, 'notumor': 2, 'pituitary': 3}\n",
      "validation labels\n",
      "[0 0 0 0 0 0 0 0 0 0 0 0 0 0 0 0 0 0 0 0 0 0 0 0 0 0 0 0 0 0 0 0 0 0 0 0 0\n",
      " 0 0 0 0 0 0 0 0 0 0 0 0 0 0 0 0 0 0 0 0 0 0 0 0 0 0 0 0 0 0 0 0 0 0 0 0 0\n",
      " 0 0 0 0 0 0 0 0 0 0 0 0 0 0 0 0 0 0 0 0 0 0 0 0 0 0 0 0 0 0 0 0 0 0 0 0 0\n",
      " 0 0 0 0 0 0 0 0 0 0 0 0 0 0 0 0 0 0 0 0 0 0 0 0 0 0 0 0 0 0 0 0 0 0 0 0 0\n",
      " 0 0 0 0 0 0 0 0 0 0 0 0 0 0 1 1 1 1 1 1 1 1 1 1 1 1 1 1 1 1 1 1 1 1 1 1 1\n",
      " 1 1 1 1 1 1 1 1 1 1 1 1 1 1 1 1 1 1 1 1 1 1 1 1 1 1 1 1 1 1 1 1 1 1 1 1 1\n",
      " 1 1 1 1 1 1 1 1 1 1 1 1 1 1 1 1 1 1 1 1 1 1 1 1 1 1 1 1 1 1 1 1 1 1 1 1 1\n",
      " 1 1 1 1 1 1 1 1 1 1 1 1 1 1 1 1 1 1 1 1 1 1 1 1 1 1 1 1 1 1 1 1 1 1 1 1 1\n",
      " 1 1 1 1 1 1 1 1 1 1 1 1 1 1 1 1 1 1 1 1 1 1 1 1 1 1 1 1 1 1 2 2 2 2 2 2 2\n",
      " 2 2 2 2 2 2 2 2 2 2 2 2 2 2 2 2 2 2 2 2 2 2 2 2 2 2 2 2 2 2 2 2 2 2 2 2 2\n",
      " 2 2 2 2 2 2 2 2 2 2 2 2 2 2 2 2 2 2 2 2 2 2 2 2 2 2 2 2 2 2 2 2 2 2 2 2 2\n",
      " 2 2 2 2 2 2 2 2 2 2 2 2 2 2 2 2 2 2 2 2 2 2 2 2 2 2 2 2 2 2 2 2 2 2 2 2 2\n",
      " 2 2 2 2 2 2 2 2 2 2 2 2 2 2 2 2 2 2 2 2 2 2 2 2 2 2 2 2 2 2 2 2 2 2 2 2 2\n",
      " 2 2 2 2 2 2 2 2 2 2 2 2 2 2 2 2 2 2 2 2 2 2 2 2 2 2 2 2 2 2 2 2 2 2 2 2 2\n",
      " 2 2 2 2 2 2 2 2 3 3 3 3 3 3 3 3 3 3 3 3 3 3 3 3 3 3 3 3 3 3 3 3 3 3 3 3 3\n",
      " 3 3 3 3 3 3 3 3 3 3 3 3 3 3 3 3 3 3 3 3 3 3 3 3 3 3 3 3 3 3 3 3 3 3 3 3 3\n",
      " 3 3 3 3 3 3 3 3 3 3 3 3 3 3 3 3 3 3 3 3 3 3 3 3 3 3 3 3 3 3 3 3 3 3 3 3 3\n",
      " 3 3 3 3 3 3 3 3 3 3 3 3 3 3 3 3 3 3 3 3 3 3 3 3 3 3 3 3 3 3 3 3 3 3 3 3 3\n",
      " 3 3 3 3 3 3 3 3 3 3 3 3 3 3 3 3 3 3 3 3 3 3 3 3 3 3 3 3 3 3 3 3 3 3 3]\n"
     ]
    }
   ],
   "source": [
    "train_path=(\"/LAB/Brain Tumor/Brain Tumor MRI/train\")\n",
    "test_path=(\"/LAB/Brain Tumor/Brain Tumor MRI/test\")\n",
    "val_path=(\"/LAB/Brain Tumor/Brain Tumor MRI/val\")\n",
    "batch_size = 32\n",
    "img_height = 512\n",
    "img_width = 512\n",
    "no_of_clases = 4\n",
    "clsses_name = ['glioma','meninginoma','notumor','pituitary tumor']\n",
    "input_shape = (img_height,img_width,1)\n",
    "\n",
    "datagen = ImageDataGenerator(rescale = 1./255,featurewise_center=True,horizontal_flip=False,vertical_flip = False,validation_split = 0.1,featurewise_std_normalization = True)\n",
    "\n",
    "train_generator = datagen.flow_from_directory(train_path,target_size=(img_height,img_width),batch_size = batch_size, shuffle =True,class_mode = 'categorical')\n",
    "\n",
    "validation_generator = datagen.flow_from_directory(val_path,target_size=(img_height,img_width),batch_size = batch_size, shuffle =True,class_mode = 'categorical')\n",
    "\n",
    "print('train classes')\n",
    "print(train_generator.class_indices)\n",
    "print('train labels')\n",
    "print(train_generator.labels)\n",
    "print('validation clases')\n",
    "print(validation_generator.class_indices)\n",
    "print('validation labels')\n",
    "print(validation_generator.labels)"
   ]
  },
  {
   "cell_type": "code",
   "execution_count": 3,
   "metadata": {
    "colab": {
     "base_uri": "https://localhost:8080/"
    },
    "id": "rM6ACvxw817p",
    "outputId": "a7d608f1-68d3-44d1-a406-41b1703eac7f"
   },
   "outputs": [
    {
     "name": "stdout",
     "output_type": "stream",
     "text": [
      "176\n"
     ]
    }
   ],
   "source": [
    "print(len(train_generator))"
   ]
  },
  {
   "cell_type": "code",
   "execution_count": 4,
   "metadata": {
    "colab": {
     "base_uri": "https://localhost:8080/"
    },
    "id": "KE9PYmRb86qN",
    "outputId": "ec65ea4e-dc2d-4186-882a-a687ae49b5ad"
   },
   "outputs": [
    {
     "name": "stderr",
     "output_type": "stream",
     "text": [
      "2024-03-13 11:01:28.860583: I tensorflow/core/common_runtime/gpu/gpu_device.cc:1510] Created device /job:localhost/replica:0/task:0/device:GPU:0 with 91 MB memory:  -> device: 0, name: NVIDIA RTX A5000, pci bus id: 0000:3b:00.0, compute capability: 8.6\n",
      "2024-03-13 11:01:28.861955: I tensorflow/core/common_runtime/gpu/gpu_device.cc:1510] Created device /job:localhost/replica:0/task:0/device:GPU:1 with 21789 MB memory:  -> device: 1, name: NVIDIA RTX A5000, pci bus id: 0000:af:00.0, compute capability: 8.6\n"
     ]
    }
   ],
   "source": [
    "with tf.device('/GPU:1'):\n",
    "    pretrained_model = tf.keras.applications.Xception(\n",
    "                        input_shape=(512, 512, 3),\n",
    "                        include_top=False,\n",
    "                        weights='imagenet',\n",
    "                        pooling='max')\n",
    "\n",
    "    pretrained_model.trainable = False"
   ]
  },
  {
   "cell_type": "code",
   "execution_count": 5,
   "metadata": {
    "colab": {
     "base_uri": "https://localhost:8080/"
    },
    "id": "5R8zWAo89OHe",
    "outputId": "6bf28b6a-37c6-417f-e1ec-f60a2b80af47"
   },
   "outputs": [
    {
     "name": "stdout",
     "output_type": "stream",
     "text": [
      "Model: \"model\"\n",
      "__________________________________________________________________________________________________\n",
      "Layer (type)                    Output Shape         Param #     Connected to                     \n",
      "==================================================================================================\n",
      "input_1 (InputLayer)            [(None, 512, 512, 3) 0                                            \n",
      "__________________________________________________________________________________________________\n",
      "block1_conv1 (Conv2D)           (None, 255, 255, 32) 864         input_1[0][0]                    \n",
      "__________________________________________________________________________________________________\n",
      "block1_conv1_bn (BatchNormaliza (None, 255, 255, 32) 128         block1_conv1[0][0]               \n",
      "__________________________________________________________________________________________________\n",
      "block1_conv1_act (Activation)   (None, 255, 255, 32) 0           block1_conv1_bn[0][0]            \n",
      "__________________________________________________________________________________________________\n",
      "block1_conv2 (Conv2D)           (None, 253, 253, 64) 18432       block1_conv1_act[0][0]           \n",
      "__________________________________________________________________________________________________\n",
      "block1_conv2_bn (BatchNormaliza (None, 253, 253, 64) 256         block1_conv2[0][0]               \n",
      "__________________________________________________________________________________________________\n",
      "block1_conv2_act (Activation)   (None, 253, 253, 64) 0           block1_conv2_bn[0][0]            \n",
      "__________________________________________________________________________________________________\n",
      "block2_sepconv1 (SeparableConv2 (None, 253, 253, 128 8768        block1_conv2_act[0][0]           \n",
      "__________________________________________________________________________________________________\n",
      "block2_sepconv1_bn (BatchNormal (None, 253, 253, 128 512         block2_sepconv1[0][0]            \n",
      "__________________________________________________________________________________________________\n",
      "block2_sepconv2_act (Activation (None, 253, 253, 128 0           block2_sepconv1_bn[0][0]         \n",
      "__________________________________________________________________________________________________\n",
      "block2_sepconv2 (SeparableConv2 (None, 253, 253, 128 17536       block2_sepconv2_act[0][0]        \n",
      "__________________________________________________________________________________________________\n",
      "block2_sepconv2_bn (BatchNormal (None, 253, 253, 128 512         block2_sepconv2[0][0]            \n",
      "__________________________________________________________________________________________________\n",
      "conv2d (Conv2D)                 (None, 127, 127, 128 8192        block1_conv2_act[0][0]           \n",
      "__________________________________________________________________________________________________\n",
      "block2_pool (MaxPooling2D)      (None, 127, 127, 128 0           block2_sepconv2_bn[0][0]         \n",
      "__________________________________________________________________________________________________\n",
      "batch_normalization (BatchNorma (None, 127, 127, 128 512         conv2d[0][0]                     \n",
      "__________________________________________________________________________________________________\n",
      "add (Add)                       (None, 127, 127, 128 0           block2_pool[0][0]                \n",
      "                                                                 batch_normalization[0][0]        \n",
      "__________________________________________________________________________________________________\n",
      "block3_sepconv1_act (Activation (None, 127, 127, 128 0           add[0][0]                        \n",
      "__________________________________________________________________________________________________\n",
      "block3_sepconv1 (SeparableConv2 (None, 127, 127, 256 33920       block3_sepconv1_act[0][0]        \n",
      "__________________________________________________________________________________________________\n",
      "block3_sepconv1_bn (BatchNormal (None, 127, 127, 256 1024        block3_sepconv1[0][0]            \n",
      "__________________________________________________________________________________________________\n",
      "block3_sepconv2_act (Activation (None, 127, 127, 256 0           block3_sepconv1_bn[0][0]         \n",
      "__________________________________________________________________________________________________\n",
      "block3_sepconv2 (SeparableConv2 (None, 127, 127, 256 67840       block3_sepconv2_act[0][0]        \n",
      "__________________________________________________________________________________________________\n",
      "block3_sepconv2_bn (BatchNormal (None, 127, 127, 256 1024        block3_sepconv2[0][0]            \n",
      "__________________________________________________________________________________________________\n",
      "conv2d_1 (Conv2D)               (None, 64, 64, 256)  32768       add[0][0]                        \n",
      "__________________________________________________________________________________________________\n",
      "block3_pool (MaxPooling2D)      (None, 64, 64, 256)  0           block3_sepconv2_bn[0][0]         \n",
      "__________________________________________________________________________________________________\n",
      "batch_normalization_1 (BatchNor (None, 64, 64, 256)  1024        conv2d_1[0][0]                   \n",
      "__________________________________________________________________________________________________\n",
      "add_1 (Add)                     (None, 64, 64, 256)  0           block3_pool[0][0]                \n",
      "                                                                 batch_normalization_1[0][0]      \n",
      "__________________________________________________________________________________________________\n",
      "block4_sepconv1_act (Activation (None, 64, 64, 256)  0           add_1[0][0]                      \n",
      "__________________________________________________________________________________________________\n",
      "block4_sepconv1 (SeparableConv2 (None, 64, 64, 728)  188672      block4_sepconv1_act[0][0]        \n",
      "__________________________________________________________________________________________________\n",
      "block4_sepconv1_bn (BatchNormal (None, 64, 64, 728)  2912        block4_sepconv1[0][0]            \n",
      "__________________________________________________________________________________________________\n",
      "block4_sepconv2_act (Activation (None, 64, 64, 728)  0           block4_sepconv1_bn[0][0]         \n",
      "__________________________________________________________________________________________________\n",
      "block4_sepconv2 (SeparableConv2 (None, 64, 64, 728)  536536      block4_sepconv2_act[0][0]        \n",
      "__________________________________________________________________________________________________\n",
      "block4_sepconv2_bn (BatchNormal (None, 64, 64, 728)  2912        block4_sepconv2[0][0]            \n",
      "__________________________________________________________________________________________________\n",
      "conv2d_2 (Conv2D)               (None, 32, 32, 728)  186368      add_1[0][0]                      \n",
      "__________________________________________________________________________________________________\n",
      "block4_pool (MaxPooling2D)      (None, 32, 32, 728)  0           block4_sepconv2_bn[0][0]         \n",
      "__________________________________________________________________________________________________\n",
      "batch_normalization_2 (BatchNor (None, 32, 32, 728)  2912        conv2d_2[0][0]                   \n",
      "__________________________________________________________________________________________________\n",
      "add_2 (Add)                     (None, 32, 32, 728)  0           block4_pool[0][0]                \n",
      "                                                                 batch_normalization_2[0][0]      \n",
      "__________________________________________________________________________________________________\n",
      "block5_sepconv1_act (Activation (None, 32, 32, 728)  0           add_2[0][0]                      \n",
      "__________________________________________________________________________________________________\n",
      "block5_sepconv1 (SeparableConv2 (None, 32, 32, 728)  536536      block5_sepconv1_act[0][0]        \n",
      "__________________________________________________________________________________________________\n",
      "block5_sepconv1_bn (BatchNormal (None, 32, 32, 728)  2912        block5_sepconv1[0][0]            \n",
      "__________________________________________________________________________________________________\n",
      "block5_sepconv2_act (Activation (None, 32, 32, 728)  0           block5_sepconv1_bn[0][0]         \n",
      "__________________________________________________________________________________________________\n",
      "block5_sepconv2 (SeparableConv2 (None, 32, 32, 728)  536536      block5_sepconv2_act[0][0]        \n",
      "__________________________________________________________________________________________________\n",
      "block5_sepconv2_bn (BatchNormal (None, 32, 32, 728)  2912        block5_sepconv2[0][0]            \n",
      "__________________________________________________________________________________________________\n",
      "block5_sepconv3_act (Activation (None, 32, 32, 728)  0           block5_sepconv2_bn[0][0]         \n",
      "__________________________________________________________________________________________________\n",
      "block5_sepconv3 (SeparableConv2 (None, 32, 32, 728)  536536      block5_sepconv3_act[0][0]        \n",
      "__________________________________________________________________________________________________\n",
      "block5_sepconv3_bn (BatchNormal (None, 32, 32, 728)  2912        block5_sepconv3[0][0]            \n",
      "__________________________________________________________________________________________________\n",
      "add_3 (Add)                     (None, 32, 32, 728)  0           block5_sepconv3_bn[0][0]         \n",
      "                                                                 add_2[0][0]                      \n",
      "__________________________________________________________________________________________________\n",
      "block6_sepconv1_act (Activation (None, 32, 32, 728)  0           add_3[0][0]                      \n",
      "__________________________________________________________________________________________________\n",
      "block6_sepconv1 (SeparableConv2 (None, 32, 32, 728)  536536      block6_sepconv1_act[0][0]        \n",
      "__________________________________________________________________________________________________\n",
      "block6_sepconv1_bn (BatchNormal (None, 32, 32, 728)  2912        block6_sepconv1[0][0]            \n",
      "__________________________________________________________________________________________________\n",
      "block6_sepconv2_act (Activation (None, 32, 32, 728)  0           block6_sepconv1_bn[0][0]         \n",
      "__________________________________________________________________________________________________\n",
      "block6_sepconv2 (SeparableConv2 (None, 32, 32, 728)  536536      block6_sepconv2_act[0][0]        \n",
      "__________________________________________________________________________________________________\n",
      "block6_sepconv2_bn (BatchNormal (None, 32, 32, 728)  2912        block6_sepconv2[0][0]            \n",
      "__________________________________________________________________________________________________\n",
      "block6_sepconv3_act (Activation (None, 32, 32, 728)  0           block6_sepconv2_bn[0][0]         \n",
      "__________________________________________________________________________________________________\n",
      "block6_sepconv3 (SeparableConv2 (None, 32, 32, 728)  536536      block6_sepconv3_act[0][0]        \n",
      "__________________________________________________________________________________________________\n",
      "block6_sepconv3_bn (BatchNormal (None, 32, 32, 728)  2912        block6_sepconv3[0][0]            \n",
      "__________________________________________________________________________________________________\n",
      "add_4 (Add)                     (None, 32, 32, 728)  0           block6_sepconv3_bn[0][0]         \n",
      "                                                                 add_3[0][0]                      \n",
      "__________________________________________________________________________________________________\n",
      "block7_sepconv1_act (Activation (None, 32, 32, 728)  0           add_4[0][0]                      \n",
      "__________________________________________________________________________________________________\n",
      "block7_sepconv1 (SeparableConv2 (None, 32, 32, 728)  536536      block7_sepconv1_act[0][0]        \n",
      "__________________________________________________________________________________________________\n",
      "block7_sepconv1_bn (BatchNormal (None, 32, 32, 728)  2912        block7_sepconv1[0][0]            \n",
      "__________________________________________________________________________________________________\n",
      "block7_sepconv2_act (Activation (None, 32, 32, 728)  0           block7_sepconv1_bn[0][0]         \n",
      "__________________________________________________________________________________________________\n",
      "block7_sepconv2 (SeparableConv2 (None, 32, 32, 728)  536536      block7_sepconv2_act[0][0]        \n",
      "__________________________________________________________________________________________________\n",
      "block7_sepconv2_bn (BatchNormal (None, 32, 32, 728)  2912        block7_sepconv2[0][0]            \n",
      "__________________________________________________________________________________________________\n",
      "block7_sepconv3_act (Activation (None, 32, 32, 728)  0           block7_sepconv2_bn[0][0]         \n",
      "__________________________________________________________________________________________________\n",
      "block7_sepconv3 (SeparableConv2 (None, 32, 32, 728)  536536      block7_sepconv3_act[0][0]        \n",
      "__________________________________________________________________________________________________\n",
      "block7_sepconv3_bn (BatchNormal (None, 32, 32, 728)  2912        block7_sepconv3[0][0]            \n",
      "__________________________________________________________________________________________________\n",
      "add_5 (Add)                     (None, 32, 32, 728)  0           block7_sepconv3_bn[0][0]         \n",
      "                                                                 add_4[0][0]                      \n",
      "__________________________________________________________________________________________________\n",
      "block8_sepconv1_act (Activation (None, 32, 32, 728)  0           add_5[0][0]                      \n",
      "__________________________________________________________________________________________________\n",
      "block8_sepconv1 (SeparableConv2 (None, 32, 32, 728)  536536      block8_sepconv1_act[0][0]        \n",
      "__________________________________________________________________________________________________\n",
      "block8_sepconv1_bn (BatchNormal (None, 32, 32, 728)  2912        block8_sepconv1[0][0]            \n",
      "__________________________________________________________________________________________________\n",
      "block8_sepconv2_act (Activation (None, 32, 32, 728)  0           block8_sepconv1_bn[0][0]         \n",
      "__________________________________________________________________________________________________\n",
      "block8_sepconv2 (SeparableConv2 (None, 32, 32, 728)  536536      block8_sepconv2_act[0][0]        \n",
      "__________________________________________________________________________________________________\n",
      "block8_sepconv2_bn (BatchNormal (None, 32, 32, 728)  2912        block8_sepconv2[0][0]            \n",
      "__________________________________________________________________________________________________\n",
      "block8_sepconv3_act (Activation (None, 32, 32, 728)  0           block8_sepconv2_bn[0][0]         \n",
      "__________________________________________________________________________________________________\n",
      "block8_sepconv3 (SeparableConv2 (None, 32, 32, 728)  536536      block8_sepconv3_act[0][0]        \n",
      "__________________________________________________________________________________________________\n",
      "block8_sepconv3_bn (BatchNormal (None, 32, 32, 728)  2912        block8_sepconv3[0][0]            \n",
      "__________________________________________________________________________________________________\n",
      "add_6 (Add)                     (None, 32, 32, 728)  0           block8_sepconv3_bn[0][0]         \n",
      "                                                                 add_5[0][0]                      \n",
      "__________________________________________________________________________________________________\n",
      "block9_sepconv1_act (Activation (None, 32, 32, 728)  0           add_6[0][0]                      \n",
      "__________________________________________________________________________________________________\n",
      "block9_sepconv1 (SeparableConv2 (None, 32, 32, 728)  536536      block9_sepconv1_act[0][0]        \n",
      "__________________________________________________________________________________________________\n",
      "block9_sepconv1_bn (BatchNormal (None, 32, 32, 728)  2912        block9_sepconv1[0][0]            \n",
      "__________________________________________________________________________________________________\n",
      "block9_sepconv2_act (Activation (None, 32, 32, 728)  0           block9_sepconv1_bn[0][0]         \n",
      "__________________________________________________________________________________________________\n",
      "block9_sepconv2 (SeparableConv2 (None, 32, 32, 728)  536536      block9_sepconv2_act[0][0]        \n",
      "__________________________________________________________________________________________________\n",
      "block9_sepconv2_bn (BatchNormal (None, 32, 32, 728)  2912        block9_sepconv2[0][0]            \n",
      "__________________________________________________________________________________________________\n",
      "block9_sepconv3_act (Activation (None, 32, 32, 728)  0           block9_sepconv2_bn[0][0]         \n",
      "__________________________________________________________________________________________________\n",
      "block9_sepconv3 (SeparableConv2 (None, 32, 32, 728)  536536      block9_sepconv3_act[0][0]        \n",
      "__________________________________________________________________________________________________\n",
      "block9_sepconv3_bn (BatchNormal (None, 32, 32, 728)  2912        block9_sepconv3[0][0]            \n",
      "__________________________________________________________________________________________________\n",
      "add_7 (Add)                     (None, 32, 32, 728)  0           block9_sepconv3_bn[0][0]         \n",
      "                                                                 add_6[0][0]                      \n",
      "__________________________________________________________________________________________________\n",
      "block10_sepconv1_act (Activatio (None, 32, 32, 728)  0           add_7[0][0]                      \n",
      "__________________________________________________________________________________________________\n",
      "block10_sepconv1 (SeparableConv (None, 32, 32, 728)  536536      block10_sepconv1_act[0][0]       \n",
      "__________________________________________________________________________________________________\n",
      "block10_sepconv1_bn (BatchNorma (None, 32, 32, 728)  2912        block10_sepconv1[0][0]           \n",
      "__________________________________________________________________________________________________\n",
      "block10_sepconv2_act (Activatio (None, 32, 32, 728)  0           block10_sepconv1_bn[0][0]        \n",
      "__________________________________________________________________________________________________\n",
      "block10_sepconv2 (SeparableConv (None, 32, 32, 728)  536536      block10_sepconv2_act[0][0]       \n",
      "__________________________________________________________________________________________________\n",
      "block10_sepconv2_bn (BatchNorma (None, 32, 32, 728)  2912        block10_sepconv2[0][0]           \n",
      "__________________________________________________________________________________________________\n",
      "block10_sepconv3_act (Activatio (None, 32, 32, 728)  0           block10_sepconv2_bn[0][0]        \n",
      "__________________________________________________________________________________________________\n",
      "block10_sepconv3 (SeparableConv (None, 32, 32, 728)  536536      block10_sepconv3_act[0][0]       \n",
      "__________________________________________________________________________________________________\n",
      "block10_sepconv3_bn (BatchNorma (None, 32, 32, 728)  2912        block10_sepconv3[0][0]           \n",
      "__________________________________________________________________________________________________\n",
      "add_8 (Add)                     (None, 32, 32, 728)  0           block10_sepconv3_bn[0][0]        \n",
      "                                                                 add_7[0][0]                      \n",
      "__________________________________________________________________________________________________\n",
      "block11_sepconv1_act (Activatio (None, 32, 32, 728)  0           add_8[0][0]                      \n",
      "__________________________________________________________________________________________________\n",
      "block11_sepconv1 (SeparableConv (None, 32, 32, 728)  536536      block11_sepconv1_act[0][0]       \n",
      "__________________________________________________________________________________________________\n",
      "block11_sepconv1_bn (BatchNorma (None, 32, 32, 728)  2912        block11_sepconv1[0][0]           \n",
      "__________________________________________________________________________________________________\n",
      "block11_sepconv2_act (Activatio (None, 32, 32, 728)  0           block11_sepconv1_bn[0][0]        \n",
      "__________________________________________________________________________________________________\n",
      "block11_sepconv2 (SeparableConv (None, 32, 32, 728)  536536      block11_sepconv2_act[0][0]       \n",
      "__________________________________________________________________________________________________\n",
      "block11_sepconv2_bn (BatchNorma (None, 32, 32, 728)  2912        block11_sepconv2[0][0]           \n",
      "__________________________________________________________________________________________________\n",
      "block11_sepconv3_act (Activatio (None, 32, 32, 728)  0           block11_sepconv2_bn[0][0]        \n",
      "__________________________________________________________________________________________________\n",
      "block11_sepconv3 (SeparableConv (None, 32, 32, 728)  536536      block11_sepconv3_act[0][0]       \n",
      "__________________________________________________________________________________________________\n",
      "block11_sepconv3_bn (BatchNorma (None, 32, 32, 728)  2912        block11_sepconv3[0][0]           \n",
      "__________________________________________________________________________________________________\n",
      "add_9 (Add)                     (None, 32, 32, 728)  0           block11_sepconv3_bn[0][0]        \n",
      "                                                                 add_8[0][0]                      \n",
      "__________________________________________________________________________________________________\n",
      "block12_sepconv1_act (Activatio (None, 32, 32, 728)  0           add_9[0][0]                      \n",
      "__________________________________________________________________________________________________\n",
      "block12_sepconv1 (SeparableConv (None, 32, 32, 728)  536536      block12_sepconv1_act[0][0]       \n",
      "__________________________________________________________________________________________________\n",
      "block12_sepconv1_bn (BatchNorma (None, 32, 32, 728)  2912        block12_sepconv1[0][0]           \n",
      "__________________________________________________________________________________________________\n",
      "block12_sepconv2_act (Activatio (None, 32, 32, 728)  0           block12_sepconv1_bn[0][0]        \n",
      "__________________________________________________________________________________________________\n",
      "block12_sepconv2 (SeparableConv (None, 32, 32, 728)  536536      block12_sepconv2_act[0][0]       \n",
      "__________________________________________________________________________________________________\n",
      "block12_sepconv2_bn (BatchNorma (None, 32, 32, 728)  2912        block12_sepconv2[0][0]           \n",
      "__________________________________________________________________________________________________\n",
      "block12_sepconv3_act (Activatio (None, 32, 32, 728)  0           block12_sepconv2_bn[0][0]        \n",
      "__________________________________________________________________________________________________\n",
      "block12_sepconv3 (SeparableConv (None, 32, 32, 728)  536536      block12_sepconv3_act[0][0]       \n",
      "__________________________________________________________________________________________________\n",
      "block12_sepconv3_bn (BatchNorma (None, 32, 32, 728)  2912        block12_sepconv3[0][0]           \n",
      "__________________________________________________________________________________________________\n",
      "add_10 (Add)                    (None, 32, 32, 728)  0           block12_sepconv3_bn[0][0]        \n",
      "                                                                 add_9[0][0]                      \n",
      "__________________________________________________________________________________________________\n",
      "block13_sepconv1_act (Activatio (None, 32, 32, 728)  0           add_10[0][0]                     \n",
      "__________________________________________________________________________________________________\n",
      "block13_sepconv1 (SeparableConv (None, 32, 32, 728)  536536      block13_sepconv1_act[0][0]       \n",
      "__________________________________________________________________________________________________\n",
      "block13_sepconv1_bn (BatchNorma (None, 32, 32, 728)  2912        block13_sepconv1[0][0]           \n",
      "__________________________________________________________________________________________________\n",
      "block13_sepconv2_act (Activatio (None, 32, 32, 728)  0           block13_sepconv1_bn[0][0]        \n",
      "__________________________________________________________________________________________________\n",
      "block13_sepconv2 (SeparableConv (None, 32, 32, 1024) 752024      block13_sepconv2_act[0][0]       \n",
      "__________________________________________________________________________________________________\n",
      "block13_sepconv2_bn (BatchNorma (None, 32, 32, 1024) 4096        block13_sepconv2[0][0]           \n",
      "__________________________________________________________________________________________________\n",
      "conv2d_3 (Conv2D)               (None, 16, 16, 1024) 745472      add_10[0][0]                     \n",
      "__________________________________________________________________________________________________\n",
      "block13_pool (MaxPooling2D)     (None, 16, 16, 1024) 0           block13_sepconv2_bn[0][0]        \n",
      "__________________________________________________________________________________________________\n",
      "batch_normalization_3 (BatchNor (None, 16, 16, 1024) 4096        conv2d_3[0][0]                   \n",
      "__________________________________________________________________________________________________\n",
      "add_11 (Add)                    (None, 16, 16, 1024) 0           block13_pool[0][0]               \n",
      "                                                                 batch_normalization_3[0][0]      \n",
      "__________________________________________________________________________________________________\n",
      "block14_sepconv1 (SeparableConv (None, 16, 16, 1536) 1582080     add_11[0][0]                     \n",
      "__________________________________________________________________________________________________\n",
      "block14_sepconv1_bn (BatchNorma (None, 16, 16, 1536) 6144        block14_sepconv1[0][0]           \n",
      "__________________________________________________________________________________________________\n",
      "block14_sepconv1_act (Activatio (None, 16, 16, 1536) 0           block14_sepconv1_bn[0][0]        \n",
      "__________________________________________________________________________________________________\n",
      "block14_sepconv2 (SeparableConv (None, 16, 16, 2048) 3159552     block14_sepconv1_act[0][0]       \n",
      "__________________________________________________________________________________________________\n",
      "block14_sepconv2_bn (BatchNorma (None, 16, 16, 2048) 8192        block14_sepconv2[0][0]           \n",
      "__________________________________________________________________________________________________\n",
      "block14_sepconv2_act (Activatio (None, 16, 16, 2048) 0           block14_sepconv2_bn[0][0]        \n",
      "__________________________________________________________________________________________________\n",
      "global_max_pooling2d (GlobalMax (None, 2048)         0           block14_sepconv2_act[0][0]       \n",
      "__________________________________________________________________________________________________\n",
      "dense (Dense)                   (None, 4)            8196        global_max_pooling2d[0][0]       \n",
      "==================================================================================================\n",
      "Total params: 20,869,676\n",
      "Trainable params: 8,196\n",
      "Non-trainable params: 20,861,480\n",
      "__________________________________________________________________________________________________\n",
      "None\n"
     ]
    }
   ],
   "source": [
    "inputs = pretrained_model.input\n",
    "outputs = tf.keras.layers.Dense(4, activation='softmax')(pretrained_model.output)\n",
    "\n",
    "model = tf.keras.Model(inputs, outputs)\n",
    "print(model.summary())"
   ]
  },
  {
   "cell_type": "code",
   "execution_count": 6,
   "metadata": {
    "id": "D43Ubs6o9Pwe"
   },
   "outputs": [],
   "source": [
    "optimizers = tf.keras.optimizers.SGD(learning_rate=0.001)\n",
    "model.compile(optimizer=optimizers,loss='categorical_crossentropy',metrics=['accuracy'])"
   ]
  },
  {
   "cell_type": "code",
   "execution_count": 7,
   "metadata": {
    "colab": {
     "base_uri": "https://localhost:8080/"
    },
    "id": "IgXLMCxD9Sse",
    "outputId": "29b2446e-2a0a-4e96-b442-d054932629a8",
    "scrolled": true
   },
   "outputs": [
    {
     "name": "stderr",
     "output_type": "stream",
     "text": [
      "/usr/local/lib/python3.8/dist-packages/keras_preprocessing/image/image_data_generator.py:720: UserWarning: This ImageDataGenerator specifies `featurewise_center`, but it hasn't been fit on any training data. Fit it first by calling `.fit(numpy_data)`.\n",
      "  warnings.warn('This ImageDataGenerator specifies '\n",
      "/usr/local/lib/python3.8/dist-packages/keras_preprocessing/image/image_data_generator.py:728: UserWarning: This ImageDataGenerator specifies `featurewise_std_normalization`, but it hasn't been fit on any training data. Fit it first by calling `.fit(numpy_data)`.\n",
      "  warnings.warn('This ImageDataGenerator specifies '\n",
      "2024-03-13 11:01:34.172973: I tensorflow/compiler/mlir/mlir_graph_optimization_pass.cc:185] None of the MLIR Optimization Passes are enabled (registered 2)\n"
     ]
    },
    {
     "name": "stdout",
     "output_type": "stream",
     "text": [
      "Epoch 1/100\n"
     ]
    },
    {
     "name": "stderr",
     "output_type": "stream",
     "text": [
      "2024-03-13 11:01:42.969104: I tensorflow/stream_executor/cuda/cuda_dnn.cc:381] Loaded cuDNN version 8204\n"
     ]
    },
    {
     "name": "stdout",
     "output_type": "stream",
     "text": [
      "\r",
      "  1/176 [..............................] - ETA: 45:38 - loss: 1.8227 - accuracy: 0.3750"
     ]
    },
    {
     "name": "stderr",
     "output_type": "stream",
     "text": [
      "2024-03-13 11:01:49.805534: I tensorflow/stream_executor/cuda/cuda_blas.cc:1760] TensorFloat-32 will be used for the matrix multiplication. This will only be logged once.\n"
     ]
    },
    {
     "name": "stdout",
     "output_type": "stream",
     "text": [
      "176/176 [==============================] - 175s 911ms/step - loss: 1.0333 - accuracy: 0.5669 - val_loss: 0.7792 - val_accuracy: 0.7019\n",
      "Epoch 2/100\n",
      "176/176 [==============================] - 167s 951ms/step - loss: 0.7097 - accuracy: 0.7328 - val_loss: 0.6523 - val_accuracy: 0.7504\n",
      "Epoch 3/100\n",
      "176/176 [==============================] - 90s 509ms/step - loss: 0.6055 - accuracy: 0.7769 - val_loss: 0.5494 - val_accuracy: 0.8003\n",
      "Epoch 4/100\n",
      "176/176 [==============================] - 160s 912ms/step - loss: 0.5460 - accuracy: 0.7997 - val_loss: 0.5152 - val_accuracy: 0.8046\n",
      "Epoch 5/100\n",
      "176/176 [==============================] - 166s 944ms/step - loss: 0.5063 - accuracy: 0.8109 - val_loss: 0.4729 - val_accuracy: 0.8160\n",
      "Epoch 6/100\n",
      "176/176 [==============================] - 166s 944ms/step - loss: 0.4753 - accuracy: 0.8255 - val_loss: 0.4504 - val_accuracy: 0.8417\n",
      "Epoch 7/100\n",
      "176/176 [==============================] - 166s 941ms/step - loss: 0.4508 - accuracy: 0.8348 - val_loss: 0.4287 - val_accuracy: 0.8502\n",
      "Epoch 8/100\n",
      "176/176 [==============================] - 165s 938ms/step - loss: 0.4296 - accuracy: 0.8462 - val_loss: 0.4204 - val_accuracy: 0.8573\n",
      "Epoch 9/100\n",
      "176/176 [==============================] - 162s 922ms/step - loss: 0.4125 - accuracy: 0.8558 - val_loss: 0.4088 - val_accuracy: 0.8645\n",
      "Epoch 10/100\n",
      "176/176 [==============================] - 168s 954ms/step - loss: 0.3999 - accuracy: 0.8588 - val_loss: 0.3891 - val_accuracy: 0.8730\n",
      "Epoch 11/100\n",
      "176/176 [==============================] - 161s 917ms/step - loss: 0.3833 - accuracy: 0.8672 - val_loss: 0.3831 - val_accuracy: 0.8673\n",
      "Epoch 12/100\n",
      "176/176 [==============================] - 163s 927ms/step - loss: 0.3723 - accuracy: 0.8731 - val_loss: 0.3667 - val_accuracy: 0.8730\n",
      "Epoch 13/100\n",
      "176/176 [==============================] - 162s 921ms/step - loss: 0.3626 - accuracy: 0.8754 - val_loss: 0.3784 - val_accuracy: 0.8659\n",
      "Epoch 14/100\n",
      "176/176 [==============================] - 160s 909ms/step - loss: 0.3531 - accuracy: 0.8789 - val_loss: 0.3584 - val_accuracy: 0.8816\n",
      "Epoch 15/100\n",
      "176/176 [==============================] - 162s 918ms/step - loss: 0.3442 - accuracy: 0.8814 - val_loss: 0.3538 - val_accuracy: 0.8845\n",
      "Epoch 16/100\n",
      "176/176 [==============================] - 163s 925ms/step - loss: 0.3348 - accuracy: 0.8875 - val_loss: 0.3429 - val_accuracy: 0.8859\n",
      "Epoch 17/100\n",
      "176/176 [==============================] - 161s 915ms/step - loss: 0.3282 - accuracy: 0.8894 - val_loss: 0.3370 - val_accuracy: 0.8830\n",
      "Epoch 18/100\n",
      "176/176 [==============================] - 161s 914ms/step - loss: 0.3196 - accuracy: 0.8942 - val_loss: 0.3394 - val_accuracy: 0.8802\n",
      "Epoch 19/100\n",
      "176/176 [==============================] - 165s 937ms/step - loss: 0.3149 - accuracy: 0.8935 - val_loss: 0.3253 - val_accuracy: 0.8859\n",
      "Epoch 20/100\n",
      "176/176 [==============================] - 165s 940ms/step - loss: 0.3083 - accuracy: 0.8959 - val_loss: 0.3342 - val_accuracy: 0.8802\n",
      "Epoch 21/100\n",
      "176/176 [==============================] - 163s 926ms/step - loss: 0.3031 - accuracy: 0.8978 - val_loss: 0.3230 - val_accuracy: 0.8887\n",
      "Epoch 22/100\n",
      "176/176 [==============================] - 162s 921ms/step - loss: 0.2975 - accuracy: 0.8996 - val_loss: 0.3205 - val_accuracy: 0.8902\n",
      "Epoch 23/100\n",
      "176/176 [==============================] - 163s 923ms/step - loss: 0.2941 - accuracy: 0.9014 - val_loss: 0.3146 - val_accuracy: 0.8902\n",
      "Epoch 24/100\n",
      "176/176 [==============================] - 165s 936ms/step - loss: 0.2864 - accuracy: 0.9039 - val_loss: 0.3201 - val_accuracy: 0.8859\n",
      "Epoch 25/100\n",
      "176/176 [==============================] - 168s 952ms/step - loss: 0.2841 - accuracy: 0.9044 - val_loss: 0.3111 - val_accuracy: 0.8944\n",
      "Epoch 26/100\n",
      "176/176 [==============================] - 161s 914ms/step - loss: 0.2801 - accuracy: 0.9053 - val_loss: 0.3168 - val_accuracy: 0.8902\n",
      "Epoch 27/100\n",
      "176/176 [==============================] - 162s 920ms/step - loss: 0.2739 - accuracy: 0.9103 - val_loss: 0.3090 - val_accuracy: 0.9001\n",
      "Epoch 28/100\n",
      "176/176 [==============================] - 165s 939ms/step - loss: 0.2712 - accuracy: 0.9090 - val_loss: 0.3012 - val_accuracy: 0.8973\n",
      "Epoch 29/100\n",
      "176/176 [==============================] - 164s 929ms/step - loss: 0.2673 - accuracy: 0.9126 - val_loss: 0.2982 - val_accuracy: 0.9016\n",
      "Epoch 30/100\n",
      "176/176 [==============================] - 161s 913ms/step - loss: 0.2636 - accuracy: 0.9131 - val_loss: 0.3021 - val_accuracy: 0.8987\n",
      "Epoch 31/100\n",
      "176/176 [==============================] - 161s 915ms/step - loss: 0.2594 - accuracy: 0.9138 - val_loss: 0.2933 - val_accuracy: 0.9001\n",
      "Epoch 32/100\n",
      "176/176 [==============================] - 162s 922ms/step - loss: 0.2552 - accuracy: 0.9138 - val_loss: 0.2904 - val_accuracy: 0.9030\n",
      "Epoch 33/100\n",
      "176/176 [==============================] - 164s 930ms/step - loss: 0.2525 - accuracy: 0.9174 - val_loss: 0.2937 - val_accuracy: 0.9030\n",
      "Epoch 34/100\n",
      "176/176 [==============================] - 161s 913ms/step - loss: 0.2499 - accuracy: 0.9169 - val_loss: 0.2908 - val_accuracy: 0.9030\n",
      "Epoch 35/100\n",
      "176/176 [==============================] - 164s 931ms/step - loss: 0.2473 - accuracy: 0.9167 - val_loss: 0.2825 - val_accuracy: 0.9016\n",
      "Epoch 36/100\n",
      "176/176 [==============================] - 160s 911ms/step - loss: 0.2438 - accuracy: 0.9167 - val_loss: 0.2830 - val_accuracy: 0.9030\n",
      "Epoch 37/100\n",
      "176/176 [==============================] - 164s 929ms/step - loss: 0.2414 - accuracy: 0.9179 - val_loss: 0.2827 - val_accuracy: 0.9030\n",
      "Epoch 38/100\n",
      "176/176 [==============================] - 162s 917ms/step - loss: 0.2391 - accuracy: 0.9208 - val_loss: 0.2839 - val_accuracy: 0.9030\n",
      "Epoch 39/100\n",
      "176/176 [==============================] - 163s 926ms/step - loss: 0.2363 - accuracy: 0.9218 - val_loss: 0.2772 - val_accuracy: 0.9044\n",
      "Epoch 40/100\n",
      "176/176 [==============================] - 164s 933ms/step - loss: 0.2332 - accuracy: 0.9227 - val_loss: 0.2806 - val_accuracy: 0.9044\n",
      "Epoch 41/100\n",
      "176/176 [==============================] - 163s 927ms/step - loss: 0.2313 - accuracy: 0.9220 - val_loss: 0.2758 - val_accuracy: 0.9058\n",
      "Epoch 42/100\n",
      "176/176 [==============================] - 162s 921ms/step - loss: 0.2284 - accuracy: 0.9265 - val_loss: 0.2764 - val_accuracy: 0.9030\n",
      "Epoch 43/100\n",
      "176/176 [==============================] - 166s 944ms/step - loss: 0.2272 - accuracy: 0.9234 - val_loss: 0.2717 - val_accuracy: 0.9044\n",
      "Epoch 44/100\n",
      "176/176 [==============================] - 165s 937ms/step - loss: 0.2243 - accuracy: 0.9293 - val_loss: 0.2850 - val_accuracy: 0.8930\n",
      "Epoch 45/100\n",
      "176/176 [==============================] - 164s 933ms/step - loss: 0.2222 - accuracy: 0.9283 - val_loss: 0.2816 - val_accuracy: 0.9001\n",
      "Epoch 46/100\n",
      "176/176 [==============================] - 113s 637ms/step - loss: 0.2202 - accuracy: 0.9284 - val_loss: 0.2700 - val_accuracy: 0.9087\n",
      "Epoch 47/100\n",
      "176/176 [==============================] - 134s 761ms/step - loss: 0.2176 - accuracy: 0.9291 - val_loss: 0.2717 - val_accuracy: 0.9044\n",
      "Epoch 48/100\n",
      "176/176 [==============================] - 168s 952ms/step - loss: 0.2160 - accuracy: 0.9304 - val_loss: 0.2650 - val_accuracy: 0.9044\n",
      "Epoch 49/100\n",
      "176/176 [==============================] - 167s 949ms/step - loss: 0.2133 - accuracy: 0.9315 - val_loss: 0.2636 - val_accuracy: 0.9058\n",
      "Epoch 50/100\n",
      "176/176 [==============================] - 161s 911ms/step - loss: 0.2120 - accuracy: 0.9322 - val_loss: 0.2625 - val_accuracy: 0.9058\n",
      "Epoch 51/100\n",
      "176/176 [==============================] - 166s 942ms/step - loss: 0.2094 - accuracy: 0.9327 - val_loss: 0.2684 - val_accuracy: 0.9058\n",
      "Epoch 52/100\n",
      "176/176 [==============================] - 166s 945ms/step - loss: 0.2081 - accuracy: 0.9338 - val_loss: 0.2771 - val_accuracy: 0.8930\n",
      "Epoch 53/100\n",
      "176/176 [==============================] - 162s 922ms/step - loss: 0.2073 - accuracy: 0.9323 - val_loss: 0.2636 - val_accuracy: 0.9101\n",
      "Epoch 54/100\n",
      "176/176 [==============================] - 164s 931ms/step - loss: 0.2048 - accuracy: 0.9338 - val_loss: 0.2656 - val_accuracy: 0.9073\n",
      "Epoch 55/100\n",
      "176/176 [==============================] - 167s 951ms/step - loss: 0.2032 - accuracy: 0.9348 - val_loss: 0.2623 - val_accuracy: 0.9087\n",
      "Epoch 56/100\n"
     ]
    },
    {
     "name": "stdout",
     "output_type": "stream",
     "text": [
      "176/176 [==============================] - 167s 945ms/step - loss: 0.2011 - accuracy: 0.9366 - val_loss: 0.2576 - val_accuracy: 0.9073\n",
      "Epoch 57/100\n",
      "176/176 [==============================] - 161s 913ms/step - loss: 0.1995 - accuracy: 0.9370 - val_loss: 0.2569 - val_accuracy: 0.9116\n",
      "Epoch 58/100\n",
      "176/176 [==============================] - 164s 930ms/step - loss: 0.1973 - accuracy: 0.9345 - val_loss: 0.2562 - val_accuracy: 0.9101\n",
      "Epoch 59/100\n",
      "176/176 [==============================] - 162s 922ms/step - loss: 0.1957 - accuracy: 0.9380 - val_loss: 0.2574 - val_accuracy: 0.9101\n",
      "Epoch 60/100\n",
      "176/176 [==============================] - 165s 937ms/step - loss: 0.1946 - accuracy: 0.9382 - val_loss: 0.2574 - val_accuracy: 0.9073\n",
      "Epoch 61/100\n",
      "176/176 [==============================] - 164s 930ms/step - loss: 0.1935 - accuracy: 0.9411 - val_loss: 0.2593 - val_accuracy: 0.9073\n",
      "Epoch 62/100\n",
      "176/176 [==============================] - 162s 918ms/step - loss: 0.1924 - accuracy: 0.9389 - val_loss: 0.2518 - val_accuracy: 0.9116\n",
      "Epoch 63/100\n",
      "176/176 [==============================] - 165s 938ms/step - loss: 0.1917 - accuracy: 0.9412 - val_loss: 0.2547 - val_accuracy: 0.9101\n",
      "Epoch 64/100\n",
      "176/176 [==============================] - 166s 941ms/step - loss: 0.1894 - accuracy: 0.9414 - val_loss: 0.2520 - val_accuracy: 0.9130\n",
      "Epoch 65/100\n",
      "176/176 [==============================] - 165s 937ms/step - loss: 0.1884 - accuracy: 0.9398 - val_loss: 0.2514 - val_accuracy: 0.9116\n",
      "Epoch 66/100\n",
      "176/176 [==============================] - 162s 921ms/step - loss: 0.1864 - accuracy: 0.9414 - val_loss: 0.2531 - val_accuracy: 0.9101\n",
      "Epoch 67/100\n",
      "176/176 [==============================] - 162s 921ms/step - loss: 0.1844 - accuracy: 0.9427 - val_loss: 0.2485 - val_accuracy: 0.9116\n",
      "Epoch 68/100\n",
      "176/176 [==============================] - 163s 924ms/step - loss: 0.1839 - accuracy: 0.9420 - val_loss: 0.2469 - val_accuracy: 0.9130\n",
      "Epoch 69/100\n",
      "176/176 [==============================] - 165s 934ms/step - loss: 0.1820 - accuracy: 0.9448 - val_loss: 0.2460 - val_accuracy: 0.9116\n",
      "Epoch 70/100\n",
      "176/176 [==============================] - 167s 950ms/step - loss: 0.1809 - accuracy: 0.9453 - val_loss: 0.2487 - val_accuracy: 0.9144\n",
      "Epoch 71/100\n",
      "176/176 [==============================] - 162s 917ms/step - loss: 0.1793 - accuracy: 0.9439 - val_loss: 0.2535 - val_accuracy: 0.9030\n",
      "Epoch 72/100\n",
      "176/176 [==============================] - 162s 918ms/step - loss: 0.1784 - accuracy: 0.9452 - val_loss: 0.2460 - val_accuracy: 0.9144\n",
      "Epoch 73/100\n",
      "176/176 [==============================] - 165s 936ms/step - loss: 0.1772 - accuracy: 0.9462 - val_loss: 0.2454 - val_accuracy: 0.9158\n",
      "Epoch 74/100\n",
      "176/176 [==============================] - 168s 956ms/step - loss: 0.1751 - accuracy: 0.9459 - val_loss: 0.2476 - val_accuracy: 0.9144\n",
      "Epoch 75/100\n",
      "176/176 [==============================] - 165s 938ms/step - loss: 0.1757 - accuracy: 0.9475 - val_loss: 0.2479 - val_accuracy: 0.9144\n",
      "Epoch 76/100\n",
      "176/176 [==============================] - 165s 938ms/step - loss: 0.1729 - accuracy: 0.9468 - val_loss: 0.2443 - val_accuracy: 0.9144\n",
      "Epoch 77/100\n",
      "176/176 [==============================] - 168s 956ms/step - loss: 0.1716 - accuracy: 0.9471 - val_loss: 0.2447 - val_accuracy: 0.9173\n",
      "Epoch 78/100\n",
      "176/176 [==============================] - 164s 931ms/step - loss: 0.1715 - accuracy: 0.9468 - val_loss: 0.2409 - val_accuracy: 0.9158\n",
      "Epoch 79/100\n",
      "176/176 [==============================] - 165s 940ms/step - loss: 0.1708 - accuracy: 0.9503 - val_loss: 0.2516 - val_accuracy: 0.9016\n",
      "Epoch 80/100\n",
      "176/176 [==============================] - 165s 937ms/step - loss: 0.1691 - accuracy: 0.9494 - val_loss: 0.2523 - val_accuracy: 0.8987\n",
      "Epoch 81/100\n",
      "176/176 [==============================] - 161s 913ms/step - loss: 0.1677 - accuracy: 0.9503 - val_loss: 0.2432 - val_accuracy: 0.9173\n",
      "Epoch 82/100\n",
      "176/176 [==============================] - 168s 956ms/step - loss: 0.1677 - accuracy: 0.9494 - val_loss: 0.2486 - val_accuracy: 0.9058\n",
      "Epoch 83/100\n",
      "176/176 [==============================] - 166s 945ms/step - loss: 0.1663 - accuracy: 0.9494 - val_loss: 0.2410 - val_accuracy: 0.9187\n",
      "Epoch 84/100\n",
      "176/176 [==============================] - 163s 928ms/step - loss: 0.1650 - accuracy: 0.9509 - val_loss: 0.2395 - val_accuracy: 0.9144\n",
      "Epoch 85/100\n",
      "176/176 [==============================] - 165s 939ms/step - loss: 0.1647 - accuracy: 0.9494 - val_loss: 0.2435 - val_accuracy: 0.9116\n",
      "Epoch 86/100\n",
      "176/176 [==============================] - 166s 940ms/step - loss: 0.1631 - accuracy: 0.9509 - val_loss: 0.2450 - val_accuracy: 0.9087\n",
      "Epoch 87/100\n",
      "176/176 [==============================] - 165s 939ms/step - loss: 0.1619 - accuracy: 0.9514 - val_loss: 0.2427 - val_accuracy: 0.9201\n",
      "Epoch 88/100\n",
      "176/176 [==============================] - 166s 942ms/step - loss: 0.1609 - accuracy: 0.9518 - val_loss: 0.2366 - val_accuracy: 0.9173\n",
      "Epoch 89/100\n",
      "176/176 [==============================] - 87s 494ms/step - loss: 0.1595 - accuracy: 0.9521 - val_loss: 0.2345 - val_accuracy: 0.9158\n",
      "Epoch 90/100\n",
      "176/176 [==============================] - 162s 920ms/step - loss: 0.1594 - accuracy: 0.9535 - val_loss: 0.2391 - val_accuracy: 0.9158\n",
      "Epoch 91/100\n",
      "176/176 [==============================] - 166s 942ms/step - loss: 0.1579 - accuracy: 0.9519 - val_loss: 0.2344 - val_accuracy: 0.9173\n",
      "Epoch 92/100\n",
      "176/176 [==============================] - 166s 940ms/step - loss: 0.1576 - accuracy: 0.9544 - val_loss: 0.2360 - val_accuracy: 0.9201\n",
      "Epoch 93/100\n",
      "176/176 [==============================] - 163s 927ms/step - loss: 0.1569 - accuracy: 0.9519 - val_loss: 0.2384 - val_accuracy: 0.9144\n",
      "Epoch 94/100\n",
      "176/176 [==============================] - 166s 941ms/step - loss: 0.1560 - accuracy: 0.9550 - val_loss: 0.2456 - val_accuracy: 0.9044\n",
      "Epoch 95/100\n",
      "176/176 [==============================] - 163s 922ms/step - loss: 0.1547 - accuracy: 0.9550 - val_loss: 0.2366 - val_accuracy: 0.9144\n",
      "Epoch 96/100\n",
      "176/176 [==============================] - 164s 933ms/step - loss: 0.1541 - accuracy: 0.9548 - val_loss: 0.2443 - val_accuracy: 0.9087\n",
      "Epoch 97/100\n",
      "176/176 [==============================] - 166s 942ms/step - loss: 0.1535 - accuracy: 0.9548 - val_loss: 0.2314 - val_accuracy: 0.9187\n",
      "Epoch 98/100\n",
      "176/176 [==============================] - 165s 936ms/step - loss: 0.1526 - accuracy: 0.9537 - val_loss: 0.2358 - val_accuracy: 0.9158\n",
      "Epoch 99/100\n",
      "176/176 [==============================] - 163s 924ms/step - loss: 0.1515 - accuracy: 0.9564 - val_loss: 0.2323 - val_accuracy: 0.9201\n",
      "Epoch 100/100\n",
      "176/176 [==============================] - 165s 936ms/step - loss: 0.1506 - accuracy: 0.9567 - val_loss: 0.2326 - val_accuracy: 0.9201\n"
     ]
    }
   ],
   "source": [
    "#callbacks = tf.keras.callbacks.EarlyStopping(monitor='val_loss',patience=3,restore_best_weights=True)\n",
    "with tf.device('/GPU:1'):\n",
    "    history = model.fit(train_generator,validation_data=validation_generator,epochs=100)"
   ]
  },
  {
   "cell_type": "code",
   "execution_count": 8,
   "metadata": {
    "colab": {
     "base_uri": "https://localhost:8080/",
     "height": 927
    },
    "id": "BVzIcWISDWUx",
    "outputId": "27ee712c-637c-4e78-b1b0-c995745c4a5a"
   },
   "outputs": [
    {
     "data": {
      "image/png": "[encoded data removed]",
      "text/plain": [
       "<Figure size 432x288 with 1 Axes>"
      ]
     },
     "metadata": {
      "needs_background": "light"
     },
     "output_type": "display_data"
    },
    {
     "data": {
      "image/png": "[encoded data removed]",
      "text/plain": [
       "<Figure size 432x288 with 1 Axes>"
      ]
     },
     "metadata": {
      "needs_background": "light"
     },
     "output_type": "display_data"
    }
   ],
   "source": [
    "plt.plot(history.history['loss'],label='Train_loss')\n",
    "plt.plot(history.history['val_loss'],label='Val_loss')\n",
    "plt.legend()\n",
    "plt.xlabel('No. of Epochs')\n",
    "plt.ylabel('Loss')\n",
    "plt.title('Loss vs Epochs')\n",
    "plt.show()\n",
    "\n",
    "\n",
    "plt.plot(history.history['accuracy'],label = 'Train_acc')\n",
    "plt.plot(history.history['val_accuracy'],label = 'Val_acc')\n",
    "plt.legend()\n",
    "plt.xlabel('No. of Epochs')\n",
    "plt.ylabel(\"Accuracy\")\n",
    "plt.title(\"Accuracy vs Epochs\")\n",
    "plt.show()"
   ]
  },
  {
   "cell_type": "code",
   "execution_count": 9,
   "metadata": {
    "colab": {
     "base_uri": "https://localhost:8080/"
    },
    "id": "NmnmmMFfBXwT",
    "outputId": "67975d75-4321-4728-d614-6e50b838da57"
   },
   "outputs": [
    {
     "name": "stdout",
     "output_type": "stream",
     "text": [
      "Found 705 images belonging to 4 classes.\n"
     ]
    }
   ],
   "source": [
    "test_data = ImageDataGenerator(rescale=1./255)\n",
    "test_generator = test_data.flow_from_directory(test_path, target_size=(512, 512), batch_size=32, shuffle=False, class_mode=\"categorical\")\n",
    "\n"
   ]
  },
  {
   "cell_type": "code",
   "execution_count": 10,
   "metadata": {
    "id": "R6ogK-s79UzU"
   },
   "outputs": [],
   "source": [
    "with tf.device('/GPU:1'):\n",
    "    predictions = np.argmax(model.predict(test_generator), axis=1)\n",
    "    matrix = confusion_matrix(test_generator.labels, predictions)\n",
    "    report= classification_report(test_generator.labels, predictions, target_names=test_generator.class_indices, zero_division=0)"
   ]
  },
  {
   "cell_type": "code",
   "execution_count": 11,
   "metadata": {
    "colab": {
     "base_uri": "https://localhost:8080/"
    },
    "id": "uue4O0SMCqcd",
    "outputId": "afd83f4e-4e80-4858-c750-692393d6a390"
   },
   "outputs": [
    {
     "name": "stdout",
     "output_type": "stream",
     "text": [
      "23/23 [==============================] - 18s 788ms/step\n",
      "[0 0 1 0 0 0 0 0 0 0 0 0 0 0 0 0 0 0 0 1 1 1 0 0 0 0 1 0 0 1 0 0 0 0 1 0 0\n",
      " 0 0 1 0 0 0 0 0 0 0 0 0 0 0 0 0 0 1 0 0 0 0 0 0 0 0 0 0 0 0 0 0 0 0 0 0 0\n",
      " 0 0 0 0 0 0 0 0 0 0 0 0 0 0 0 0 0 0 0 0 0 0 0 0 0 1 0 0 0 0 0 0 0 0 0 0 0\n",
      " 0 0 0 0 0 0 0 0 1 0 0 0 0 0 0 0 0 0 0 0 0 0 0 0 0 0 0 0 3 0 1 1 1 1 0 0 0\n",
      " 1 1 1 0 0 1 0 0 1 0 0 1 1 0 0 1 1 1 1 1 2 1 1 1 1 1 1 1 1 1 1 1 0 1 1 1 0\n",
      " 1 1 1 1 1 1 1 1 1 1 1 1 1 3 1 1 1 1 1 1 1 1 1 1 1 1 1 1 1 1 1 1 1 1 1 1 1\n",
      " 1 0 0 1 1 1 1 1 1 1 1 1 1 3 1 1 0 2 2 2 1 1 1 1 1 3 1 1 1 1 1 1 1 1 1 1 1\n",
      " 1 1 1 1 1 1 3 0 0 1 1 1 1 1 1 1 1 1 1 0 0 1 1 1 1 1 1 1 1 1 1 1 1 3 1 0 0\n",
      " 3 1 1 0 1 1 1 1 0 1 3 1 1 1 1 3 1 1 1 1 1 1 1 1 3 1 1 0 1 1 1 1 2 2 2 2 2\n",
      " 2 2 2 2 2 2 2 2 2 2 2 2 2 2 2 2 2 2 2 2 2 2 2 2 2 2 2 2 2 3 2 2 2 2 2 1 2\n",
      " 2 2 2 2 2 0 0 2 2 2 2 2 2 2 2 2 2 2 2 2 2 2 2 2 2 2 2 2 2 2 2 2 2 2 2 2 2\n",
      " 2 2 2 2 2 2 2 2 2 2 2 2 2 2 2 2 2 2 2 2 2 2 2 2 2 2 2 2 2 2 2 2 2 2 2 2 2\n",
      " 2 2 2 2 2 2 2 2 2 2 2 2 2 2 2 2 2 2 2 2 2 2 2 2 2 2 2 2 2 2 2 2 2 2 2 2 2\n",
      " 2 2 2 2 2 2 2 2 2 2 2 2 2 2 2 2 2 2 2 2 2 2 2 2 2 2 2 2 2 2 2 2 2 2 1 2 2\n",
      " 2 2 2 2 2 2 2 2 2 2 3 3 3 3 3 3 3 3 3 3 3 3 3 3 3 3 3 3 3 3 3 3 3 3 3 3 3\n",
      " 3 3 3 3 3 3 3 3 3 3 3 3 3 3 3 3 3 3 3 3 3 3 3 3 3 3 3 3 3 3 3 3 3 3 3 3 3\n",
      " 3 3 3 3 3 3 3 3 3 3 0 3 3 3 3 3 3 3 3 3 3 3 3 3 3 3 3 3 1 1 3 3 3 3 3 3 3\n",
      " 3 3 3 1 3 3 3 3 3 3 3 3 3 3 3 3 3 1 3 3 3 3 3 3 3 3 3 1 3 3 1 3 1 3 3 3 3\n",
      " 3 3 3 3 3 3 3 3 3 3 3 3 3 3 3 3 3 1 3 3 1 3 3 3 3 3 3 3 3 3 3 3 3 3 3 3 1\n",
      " 3 3]\n"
     ]
    }
   ],
   "source": [
    "with tf.device('/GPU:1'):\n",
    "    pred = model.predict(test_generator,verbose=1)\n",
    "    test_generator_indices = np.argmax(pred,axis=1)\n",
    "\n",
    "    print(test_generator_indices)"
   ]
  },
  {
   "cell_type": "code",
   "execution_count": 12,
   "metadata": {
    "colab": {
     "base_uri": "https://localhost:8080/",
     "height": 983
    },
    "id": "Kmus5AyX9XgK",
    "outputId": "4fe48f3d-d605-4914-e09f-2fbb79ec3020"
   },
   "outputs": [
    {
     "data": {
      "image/png": "[encoded data removed]",
      "text/plain": [
       "<Figure size 720x720 with 2 Axes>"
      ]
     },
     "metadata": {
      "needs_background": "light"
     },
     "output_type": "display_data"
    }
   ],
   "source": [
    "fig = plt.figure(figsize=(10,10))\n",
    "sns.heatmap(matrix, annot=True, cmap='viridis')\n",
    "plt.xticks(ticks=np.arange(4) + 0.5, labels=test_generator.class_indices, rotation=90)\n",
    "plt.yticks(ticks=np.arange(4) + 0.5, labels=test_generator.class_indices, rotation=0)\n",
    "plt.title(\"Confusion Matrix\")\n",
    "plt.xlabel(\"Predicted\")\n",
    "plt.ylabel(\"Actual\")\n",
    "plt.show()\n",
    "fig.savefig(\"Confusion Matrix\",dpi=700)"
   ]
  },
  {
   "cell_type": "code",
   "execution_count": 13,
   "metadata": {
    "colab": {
     "base_uri": "https://localhost:8080/"
    },
    "id": "T8HLct9t9ZSH",
    "outputId": "68089511-8a6e-4ee8-d525-d516b799c82c"
   },
   "outputs": [
    {
     "name": "stdout",
     "output_type": "stream",
     "text": [
      "Classification Report:\n",
      "               precision    recall  f1-score   support\n",
      "\n",
      "      glioma       0.89      0.86      0.87       163\n",
      "  meningioma       0.80      0.84      0.82       165\n",
      "     notumor       0.98      0.97      0.98       200\n",
      "   pituitary       0.94      0.94      0.94       177\n",
      "\n",
      "    accuracy                           0.91       705\n",
      "   macro avg       0.90      0.90      0.90       705\n",
      "weighted avg       0.91      0.91      0.91       705\n",
      "\n"
     ]
    }
   ],
   "source": [
    "print(\"Classification Report:\\n\", report)"
   ]
  },
  {
   "cell_type": "code",
   "execution_count": 14,
   "metadata": {
    "id": "B3o9NjqSoLd1"
   },
   "outputs": [
    {
     "name": "stdout",
     "output_type": "stream",
     "text": [
      "Wed Mar 13 15:36:36 2024       \n",
      "+-----------------------------------------------------------------------------+\n",
      "| NVIDIA-SMI 470.239.06   Driver Version: 470.239.06   CUDA Version: 11.4     |\n",
      "|-------------------------------+----------------------+----------------------+\n",
      "| GPU  Name        Persistence-M| Bus-Id        Disp.A | Volatile Uncorr. ECC |\n",
      "| Fan  Temp  Perf  Pwr:Usage/Cap|         Memory-Usage | GPU-Util  Compute M. |\n",
      "|                               |                      |               MIG M. |\n",
      "|===============================+======================+======================|\n",
      "|   0  NVIDIA RTX A5000    Off  | 00000000:3B:00.0 Off |                  Off |\n",
      "| 49%   74C    P2    90W / 230W |  24250MiB / 24256MiB |      0%      Default |\n",
      "|                               |                      |                  N/A |\n",
      "+-------------------------------+----------------------+----------------------+\n",
      "|   1  NVIDIA RTX A5000    Off  | 00000000:AF:00.0 Off |                  Off |\n",
      "| 52%   74C    P2    79W / 230W |  23809MiB / 24256MiB |      0%      Default |\n",
      "|                               |                      |                  N/A |\n",
      "+-------------------------------+----------------------+----------------------+\n",
      "                                                                               \n",
      "+-----------------------------------------------------------------------------+\n",
      "| Processes:                                                                  |\n",
      "|  GPU   GI   CI        PID   Type   Process name                  GPU Memory |\n",
      "|        ID   ID                                                   Usage      |\n",
      "|=============================================================================|\n",
      "+-----------------------------------------------------------------------------+\n"
     ]
    }
   ],
   "source": [
    "!nvidia-smi"
   ]
  },
  {
   "cell_type": "code",
   "execution_count": null,
   "metadata": {},
   "outputs": [],
   "source": []
  }
 ],
 "metadata": {
  "accelerator": "GPU",
  "colab": {
   "gpuType": "T4",
   "provenance": []
  },
  "kernelspec": {
   "display_name": "Python 3 (ipykernel)",
   "language": "python",
   "name": "python3"
  },
  "language_info": {
   "codemirror_mode": {
    "name": "ipython",
    "version": 3
   },
   "file_extension": ".py",
   "mimetype": "text/x-python",
   "name": "python",
   "nbconvert_exporter": "python",
   "pygments_lexer": "ipython3",
   "version": "3.9.19"
  }
 },
 "nbformat": 4,
 "nbformat_minor": 4
}
